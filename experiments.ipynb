{
 "cells": [
  {
   "cell_type": "code",
   "execution_count": 2,
   "metadata": {},
   "outputs": [],
   "source": [
    "TRAIN_DATA_DIR = \"chest_xray/train\"\n",
    "VAL_DATA_DIR = \"chest_xray/val\"\n",
    "TEST_DATA_DIR = \"chest_xray/test\""
   ]
  },
  {
   "cell_type": "code",
   "execution_count": 3,
   "metadata": {},
   "outputs": [],
   "source": [
    "# Define data directories for all sets\n",
    "data_dirs = {\n",
    "    'train': TRAIN_DATA_DIR,\n",
    "    'val': VAL_DATA_DIR,\n",
    "    'test': TEST_DATA_DIR\n",
    "}"
   ]
  },
  {
   "cell_type": "code",
   "execution_count": 4,
   "metadata": {},
   "outputs": [],
   "source": [
    "# Function to analyze dataset distribution\n",
    "def print_dataset_stats(data_dirs):\n",
    "    total_normal = 0\n",
    "    total_pneumonia = 0\n",
    "    \n",
    "    print(\"Dataset Distribution:\")\n",
    "    print(\"-\" * 50)\n",
    "    \n",
    "    for dataset_type, dir_path in data_dirs.items():\n",
    "        normal_path = os.path.join(dir_path, 'NORMAL')\n",
    "        pneumonia_path = os.path.join(dir_path, 'PNEUMONIA')\n",
    "        \n",
    "        normal_count = len(os.listdir(normal_path))\n",
    "        pneumonia_count = len(os.listdir(pneumonia_path))\n",
    "        \n",
    "        total_normal += normal_count\n",
    "        total_pneumonia += pneumonia_count\n",
    "        \n",
    "        print(f\"{dataset_type.capitalize()} set:\")\n",
    "        print(f\"  Normal X-Rays: {normal_count}\")\n",
    "        print(f\"  Pneumonia X-Rays: {pneumonia_count}\")\n",
    "        print(f\"  Ratio (Pneumonia/Normal): {pneumonia_count/normal_count:.2f}\")\n",
    "        print()\n",
    "    \n",
    "    print(\"Overall Statistics:\")\n",
    "    print(f\"Total Normal cases: {total_normal}\")\n",
    "    print(f\"Total Pneumonia cases: {total_pneumonia}\")\n",
    "    print(f\"Total images: {total_normal + total_pneumonia}\")"
   ]
  },
  {
   "cell_type": "code",
   "execution_count": 5,
   "metadata": {},
   "outputs": [],
   "source": [
    "def plot_sample_images(data_dirs, samples_per_class=5):\n",
    "    \"\"\"\n",
    "    Plot sample images from each dataset and class\n",
    "    \"\"\"\n",
    "    plt.style.use('seaborn')\n",
    "    \n",
    "    for dataset_type, dir_path in data_dirs.items():\n",
    "        normal_path = os.path.join(dir_path, 'NORMAL')\n",
    "        pneumonia_path = os.path.join(dir_path, 'PNEUMONIA')\n",
    "        \n",
    "        normal_samples = np.random.choice(os.listdir(normal_path), samples_per_class, replace=False)\n",
    "        pneumonia_samples = np.random.choice(os.listdir(pneumonia_path), samples_per_class, replace=False)\n",
    "        \n",
    "        fig, axes = plt.subplots(2, samples_per_class, figsize=(20, 8))\n",
    "        fig.suptitle(f'Sample Images from {dataset_type.capitalize()} Set', fontsize=16)\n",
    "        \n",
    "        for idx, (norm_img, pneu_img) in enumerate(zip(normal_samples, pneumonia_samples)):\n",
    "            # Plot normal images\n",
    "            norm_img_path = os.path.join(normal_path, norm_img)\n",
    "            img = Image.open(norm_img_path)\n",
    "            axes[0, idx].imshow(img, cmap='gray')\n",
    "            axes[0, idx].axis('off')\n",
    "            axes[0, idx].set_title('Normal')\n",
    "            \n",
    "            # Plot pneumonia images\n",
    "            pneu_img_path = os.path.join(pneumonia_path, pneu_img)\n",
    "            img = Image.open(pneu_img_path)\n",
    "            axes[1, idx].imshow(img, cmap='gray')\n",
    "            axes[1, idx].axis('off')\n",
    "            axes[1, idx].set_title('Pneumonia')\n",
    "        \n",
    "        plt.tight_layout()\n",
    "        plt.show()"
   ]
  },
  {
   "cell_type": "code",
   "execution_count": null,
   "metadata": {},
   "outputs": [],
   "source": [
    "print_dataset_stats(data_dirs)\n",
    "plot_sample_images(data_dirs)"
   ]
  }
 ],
 "metadata": {
  "kernelspec": {
   "display_name": ".venv",
   "language": "python",
   "name": "python3"
  },
  "language_info": {
   "codemirror_mode": {
    "name": "ipython",
    "version": 3
   },
   "file_extension": ".py",
   "mimetype": "text/x-python",
   "name": "python",
   "nbconvert_exporter": "python",
   "pygments_lexer": "ipython3",
   "version": "3.11.10"
  }
 },
 "nbformat": 4,
 "nbformat_minor": 2
}
